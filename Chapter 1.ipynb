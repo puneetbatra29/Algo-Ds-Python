{
 "cells": [
  {
   "cell_type": "markdown",
   "metadata": {},
   "source": [
    "# Reinforcement"
   ]
  },
  {
   "cell_type": "markdown",
   "metadata": {},
   "source": [
    "#### R-1.1 \n",
    "\n",
    "Write a short Python function, is_multiple(n, m), that takes two integer values and returns True if n is a multiple of m, that is, n = mi for some integer i, and False otherwise."
   ]
  },
  {
   "cell_type": "code",
   "execution_count": 1,
   "metadata": {},
   "outputs": [
    {
     "name": "stdout",
     "output_type": "stream",
     "text": [
      "False\n",
      "True\n",
      "False\n",
      "True\n",
      "True\n",
      "True\n"
     ]
    }
   ],
   "source": [
    "def is_multiple(n,m):\n",
    "    return False if not m else (n%m==0) # Handling zero division error\n",
    "\n",
    "print(is_multiple(10,3))\n",
    "print(is_multiple(10,5))\n",
    "print(is_multiple(10,0))\n",
    "print(is_multiple(20,-1))\n",
    "print(is_multiple(-20,-1))\n",
    "print(is_multiple(-10,-1))"
   ]
  },
  {
   "cell_type": "markdown",
   "metadata": {},
   "source": [
    "#### R-1.2\n",
    "\n",
    "Write a short Python function, is_even(k), that takes an integer value and returns True if k is even, and False otherwise. However, your function cannot use the multiplication, modulo, or division operators."
   ]
  },
  {
   "cell_type": "code",
   "execution_count": 2,
   "metadata": {},
   "outputs": [
    {
     "name": "stdout",
     "output_type": "stream",
     "text": [
      "True\n",
      "False\n",
      "True\n",
      "False\n"
     ]
    }
   ],
   "source": [
    "def is_even(k):\n",
    "    assert type(k) == int, \"Not an Integer\"\n",
    "    return (k&1 == 0) #Bitwise operation\n",
    "\n",
    "print(is_even(2))\n",
    "print(is_even(3))   \n",
    "print(is_even(0))  \n",
    "print(is_even(-1)) "
   ]
  },
  {
   "cell_type": "markdown",
   "metadata": {},
   "source": [
    "#### R-1.3\n",
    "\n",
    "Write a short Python function, minmax(data), that takes a sequence of one or more numbers, and returns the smallest and largest numbers, in the form of a tuple of length two. Do not use the built-in functions min or max in implementing your solution."
   ]
  },
  {
   "cell_type": "code",
   "execution_count": 3,
   "metadata": {},
   "outputs": [
    {
     "name": "stdout",
     "output_type": "stream",
     "text": [
      "(1, 9)\n",
      "(1, 2)\n",
      "(3, 3)\n",
      "Data source should not be empty\n",
      "None\n"
     ]
    }
   ],
   "source": [
    "def minmax(data):\n",
    "    if len(data):\n",
    "        min = max = data[0]\n",
    "        for num in data:\n",
    "            if num < min: min = num\n",
    "            elif num > max: max = num\n",
    "        return (min,max)\n",
    "    else:\n",
    "        print('Data source should not be empty')\n",
    "        return None\n",
    "\n",
    "print(minmax([1,5,2,8,9]))\n",
    "print(minmax([1,2]))\n",
    "print(minmax([3]))\n",
    "print(minmax([]))\n",
    "        "
   ]
  },
  {
   "cell_type": "markdown",
   "metadata": {},
   "source": [
    "#### R-1.4\n",
    "\n",
    "Write a short Python function that takes a positive integer n and returns the sum of the squares of all the positive integers smaller than n."
   ]
  },
  {
   "cell_type": "code",
   "execution_count": 4,
   "metadata": {},
   "outputs": [
    {
     "name": "stdout",
     "output_type": "stream",
     "text": [
      "285\n",
      "5\n",
      "328350\n",
      "0\n",
      "0\n"
     ]
    }
   ],
   "source": [
    "def sum_of_squares(num):\n",
    "    sum = 0\n",
    "    for i in range (1,num):\n",
    "        sum += i*i\n",
    "    return sum\n",
    "    \n",
    "\n",
    "print(sum_of_squares(10))\n",
    "print(sum_of_squares(3))\n",
    "print(sum_of_squares(100))\n",
    "print(sum_of_squares(1))\n",
    "print(sum_of_squares(-100))\n"
   ]
  },
  {
   "cell_type": "markdown",
   "metadata": {},
   "source": [
    "#### R-1.5\n",
    "\n",
    "Give a single command that computes the sum from Exercise R-1.4, relying on Python's comprehension syntax and the built-in sum function."
   ]
  },
  {
   "cell_type": "code",
   "execution_count": 5,
   "metadata": {},
   "outputs": [
    {
     "name": "stdout",
     "output_type": "stream",
     "text": [
      "285\n",
      "5\n",
      "328350\n",
      "0\n",
      "0\n"
     ]
    }
   ],
   "source": [
    "def sum_of_squares(num):\n",
    "    return sum([i*i for i in range(1,num)])\n",
    "\n",
    "print(sum_of_squares(10))\n",
    "print(sum_of_squares(3))\n",
    "print(sum_of_squares(100))\n",
    "print(sum_of_squares(1))\n",
    "print(sum_of_squares(-100))"
   ]
  },
  {
   "cell_type": "markdown",
   "metadata": {},
   "source": [
    "#### R-1.6\n",
    "\n",
    "Write a short Python function that takes a positive integer n and returns the sum of the squares of all the odd positive integers smaller than n."
   ]
  },
  {
   "cell_type": "code",
   "execution_count": 6,
   "metadata": {},
   "outputs": [
    {
     "name": "stdout",
     "output_type": "stream",
     "text": [
      "165\n",
      "1\n",
      "166650\n",
      "0\n",
      "0\n"
     ]
    }
   ],
   "source": [
    "def sum_of_odd_squares(num):\n",
    "    sum = 0\n",
    "    for i in range (1,num):\n",
    "        if i%2:\n",
    "            sum += i*i\n",
    "    return sum\n",
    "\n",
    "print(sum_of_odd_squares(10))\n",
    "print(sum_of_odd_squares(3))\n",
    "print(sum_of_odd_squares(100))\n",
    "print(sum_of_odd_squares(1))\n",
    "print(sum_of_odd_squares(-100))"
   ]
  },
  {
   "cell_type": "markdown",
   "metadata": {},
   "source": [
    "#### R1.7\n",
    "\n",
    "Give a single command that computes the sum from Exercise R-1.6, relying on Python's comprehension syntax and the built-in sum function."
   ]
  },
  {
   "cell_type": "code",
   "execution_count": 7,
   "metadata": {},
   "outputs": [
    {
     "name": "stdout",
     "output_type": "stream",
     "text": [
      "165\n",
      "1\n",
      "166650\n",
      "0\n",
      "0\n"
     ]
    }
   ],
   "source": [
    "def sum_of_odd_squares(num):\n",
    "    return sum([i*i for i in range(1,num) if i%2])\n",
    "\n",
    "print(sum_of_odd_squares(10))\n",
    "print(sum_of_odd_squares(3))\n",
    "print(sum_of_odd_squares(100))\n",
    "print(sum_of_odd_squares(1))\n",
    "print(sum_of_odd_squares(-100))"
   ]
  },
  {
   "cell_type": "markdown",
   "metadata": {},
   "source": [
    "#### R-1.8\n",
    "\n",
    "Python allows negative integers to be used as indices into a sequence, such as a string. If string s has length n, and expression s[k] is used for index −n ≤ k < 0, what is the equivalent index j ≥ 0 such that s[j] references the same element?"
   ]
  },
  {
   "cell_type": "code",
   "execution_count": 8,
   "metadata": {},
   "outputs": [
    {
     "name": "stdout",
     "output_type": "stream",
     "text": [
      "14\n",
      "e\n",
      "e\n"
     ]
    }
   ],
   "source": [
    "#Example\n",
    "s = 'datastructures' # Original string\n",
    "k = -2 # Let's say\n",
    "n = len(s) \n",
    "j = n+k\n",
    "print(n)\n",
    "print(s[k])\n",
    "print(s[j])\n",
    "\n",
    "# Hence answer is n+k"
   ]
  },
  {
   "cell_type": "markdown",
   "metadata": {},
   "source": [
    "#### R-1.9\n",
    "\n",
    "What parameters should be sent to the range constructor, to produce a range with values 50, 60, 70, 80?"
   ]
  },
  {
   "cell_type": "code",
   "execution_count": 9,
   "metadata": {},
   "outputs": [
    {
     "data": {
      "text/plain": [
       "[50, 60, 70, 80]"
      ]
     },
     "execution_count": 9,
     "metadata": {},
     "output_type": "execute_result"
    }
   ],
   "source": [
    "def range_construct():\n",
    "    return list(range(50,90,10))\n",
    "range_construct()"
   ]
  },
  {
   "cell_type": "markdown",
   "metadata": {},
   "source": [
    "#### R-1.10\n",
    "\n",
    "What parameters should be sent to the range constructor, to produce a range with values 8, 6, 4, 2, 0, −2, −4, −6, −8?"
   ]
  },
  {
   "cell_type": "code",
   "execution_count": 10,
   "metadata": {},
   "outputs": [
    {
     "data": {
      "text/plain": [
       "[8, 6, 4, 2, 0, -2, -4, -6, -8]"
      ]
     },
     "execution_count": 10,
     "metadata": {},
     "output_type": "execute_result"
    }
   ],
   "source": [
    "def range_construct():\n",
    "    return list(range(8,-10,-2))\n",
    "range_construct()"
   ]
  },
  {
   "cell_type": "markdown",
   "metadata": {},
   "source": [
    "#### R-1.11\n",
    "\n",
    "Demonstrate how to use Python's list comprehension syntax to produce the list [1, 2, 4, 8, 16, 32, 64, 128, 256]."
   ]
  },
  {
   "cell_type": "code",
   "execution_count": 11,
   "metadata": {},
   "outputs": [
    {
     "name": "stdout",
     "output_type": "stream",
     "text": [
      "[1, 2, 4, 8, 16, 32, 64, 128, 256]\n"
     ]
    }
   ],
   "source": [
    "print([2**i for i in range(9)])"
   ]
  },
  {
   "cell_type": "markdown",
   "metadata": {},
   "source": [
    "#### R-1.12\n",
    "\n",
    "Python's random module includes a function choice(data) that returns a random element from a non-empty sequence. The random module includes a more basic function randrange, with parameterization similar to the built-in range function, that return a random choice from the given range. Using only the randrange function, implement your own version of the choice function."
   ]
  },
  {
   "cell_type": "code",
   "execution_count": 12,
   "metadata": {},
   "outputs": [
    {
     "name": "stdout",
     "output_type": "stream",
     "text": [
      "5\n",
      "8\n",
      "1\n",
      "3\n",
      "4\n",
      "6\n",
      "7\n",
      "6\n",
      "3\n",
      "8\n",
      "7\n",
      "1\n",
      "3\n",
      "6\n",
      "8\n",
      "3\n",
      "2\n",
      "3\n",
      "3\n",
      "2\n"
     ]
    }
   ],
   "source": [
    "import random\n",
    "\n",
    "def choice(data):\n",
    "    return data[random.randrange(0,len(data))]\n",
    "    \n",
    "data = [1,2,3,4,5,6,7,8]\n",
    "for i in range(20):\n",
    "    print(choice(data))\n"
   ]
  },
  {
   "cell_type": "markdown",
   "metadata": {},
   "source": [
    "# Creativity"
   ]
  },
  {
   "cell_type": "markdown",
   "metadata": {},
   "source": [
    "#### C-1.13\n",
    "\n",
    "Write a pseudo-code description of a function that reverses a list of n integers, so that the numbers are listed in the opposite order than they were before, and compare this method to an equivalent Python function for doing the same thing."
   ]
  },
  {
   "cell_type": "code",
   "execution_count": 13,
   "metadata": {},
   "outputs": [
    {
     "name": "stdout",
     "output_type": "stream",
     "text": [
      "[100, 99, 98, 97, 96, 95, 94, 93, 92, 91, 90, 89, 88, 87, 86, 85, 84, 83, 82, 81, 80, 79, 78, 77, 76, 75, 74, 73, 72, 71, 70, 69, 68, 67, 66, 65, 64, 63, 62, 61, 60, 59, 58, 57, 56, 55, 54, 53, 52, 51, 50, 49, 48, 47, 46, 45, 44, 43, 42, 41, 40, 39, 38, 37, 36, 35, 34, 33, 32, 31, 30, 29, 28, 27, 26, 25, 24, 23, 22, 21, 20, 19, 18, 17, 16, 15, 14, 13, 12, 11, 10, 9, 8, 7, 6, 5, 4, 3, 2, 1, 0]\n",
      "0.0005855560302734375\n",
      "[100, 99, 98, 97, 96, 95, 94, 93, 92, 91, 90, 89, 88, 87, 86, 85, 84, 83, 82, 81, 80, 79, 78, 77, 76, 75, 74, 73, 72, 71, 70, 69, 68, 67, 66, 65, 64, 63, 62, 61, 60, 59, 58, 57, 56, 55, 54, 53, 52, 51, 50, 49, 48, 47, 46, 45, 44, 43, 42, 41, 40, 39, 38, 37, 36, 35, 34, 33, 32, 31, 30, 29, 28, 27, 26, 25, 24, 23, 22, 21, 20, 19, 18, 17, 16, 15, 14, 13, 12, 11, 10, 9, 8, 7, 6, 5, 4, 3, 2, 1, 0]\n",
      "0.00040459632873535156\n"
     ]
    }
   ],
   "source": [
    "import time\n",
    "def reverse_list(num_list):\n",
    "    n = len(num_list)\n",
    "    for i in range(n//2):\n",
    "        num_list[i],num_list[n-1-i]= num_list[n-1-i],num_list[i] # Swapping the first index and last index and so on\n",
    "    return num_list\n",
    "\n",
    "start = time.time()\n",
    "print(reverse_list(list(range(101))))\n",
    "end = time.time()\n",
    "print(end-start)\n",
    "start = time.time()\n",
    "print(list(reversed(list(range(101)))))\n",
    "end = time.time()\n",
    "print(end-start)"
   ]
  },
  {
   "cell_type": "markdown",
   "metadata": {},
   "source": [
    "#### C-1.14\n",
    "\n",
    "Write a short Python function that takes a sequence of integer values and determines if there is a distinct pair of numbers in the sequence whose product is odd."
   ]
  },
  {
   "cell_type": "code",
   "execution_count": 14,
   "metadata": {},
   "outputs": [
    {
     "name": "stdout",
     "output_type": "stream",
     "text": [
      "False\n"
     ]
    }
   ],
   "source": [
    "def find_odd_pair(int_list):\n",
    "    odd_num_list = [] \n",
    "    for num in int_list:\n",
    "        if num%2:\n",
    "            odd_num_list.append(num)\n",
    "        #If total odd nos in given list is greater than 1, it will always generate an odd product among 2 nos\n",
    "        if len(odd_num_list)>1:\n",
    "            return True\n",
    "    return False\n",
    "print(find_odd_pair([1,2,4]))"
   ]
  },
  {
   "cell_type": "markdown",
   "metadata": {},
   "source": [
    "#### C-1.15\n",
    "\n",
    "Write a Python function that takes a sequence of numbers and determines if all the numbers are different from each other (that is, they are distinct)."
   ]
  },
  {
   "cell_type": "code",
   "execution_count": 15,
   "metadata": {},
   "outputs": [
    {
     "name": "stdout",
     "output_type": "stream",
     "text": [
      "True\n",
      "False\n",
      "False\n",
      "True\n",
      "True\n"
     ]
    }
   ],
   "source": [
    "def is_unique(num_list):\n",
    "    return True if len(num_list) == len(set(num_list)) else False\n",
    "\n",
    "print(is_unique([1,2,3,4,5,6]))\n",
    "print(is_unique([1,2,3,4,5,5]))\n",
    "print(is_unique([0,2,3,4,5,5]))\n",
    "print(is_unique([1]))\n",
    "print(is_unique([]))"
   ]
  },
  {
   "cell_type": "markdown",
   "metadata": {},
   "source": [
    "#### C-1.16\n",
    "\n",
    "In our implementation of the scale function (page 25), the body of the loop executes the command data [j] *= factor. We have discussed that numeric types are immutable, and that use of the *= operator in this context causes the creation of a new instance (not the mutation of an existing instance). How is it still possible, then, that our implementation of scale changes the actual parameter sent by the caller?"
   ]
  },
  {
   "cell_type": "code",
   "execution_count": 16,
   "metadata": {},
   "outputs": [],
   "source": [
    "# Ans - It is because multiplication result is still stored at same reference to the existing list. It means\n",
    "# that since the list is mutable, it is storing scaled list at same reference as before"
   ]
  },
  {
   "cell_type": "markdown",
   "metadata": {},
   "source": [
    "#### C-1.17\n",
    "\n",
    "Had we implemented the scale function (page 25) as follows, does it work properly?\n",
    "\n",
    "def scale(data, factor):\n",
    "\n",
    "    for val in data:\n",
    "        val *= factor\n",
    "\n",
    "Explain why or why not."
   ]
  },
  {
   "cell_type": "code",
   "execution_count": 17,
   "metadata": {},
   "outputs": [
    {
     "name": "stdout",
     "output_type": "stream",
     "text": [
      "[3, 6, 9, 12, 15]\n"
     ]
    }
   ],
   "source": [
    "#Ans - It won't work. Even though it is multiplying value with the factor, it's not replacing the reference to existing elements in data\n",
    "#Correct one should be as follows - \n",
    "\n",
    "def scale(data, factor):\n",
    "    for ind in range(len(data)):\n",
    "        data[ind] *= factor\n",
    "    return data\n",
    "        \n",
    "\n",
    "data = [1,2,3,4,5]\n",
    "print(scale(data,3))\n",
    "    "
   ]
  },
  {
   "cell_type": "markdown",
   "metadata": {},
   "source": [
    "#### C-1.18\n",
    "\n",
    "Demonstrate how to use Python's list comprehension syntax to produce the list [0, 2, 6, 12, 20, 30, 42, 56, 72, 90]."
   ]
  },
  {
   "cell_type": "code",
   "execution_count": 18,
   "metadata": {},
   "outputs": [
    {
     "data": {
      "text/plain": [
       "[0, 2, 6, 12, 20, 30, 42, 56, 72, 90]"
      ]
     },
     "execution_count": 18,
     "metadata": {},
     "output_type": "execute_result"
    }
   ],
   "source": [
    "def generate_nos():\n",
    "    out = 0\n",
    "    mul = 0\n",
    "    while True:\n",
    "        yield out\n",
    "        mul += 1\n",
    "        out += 2*(mul)\n",
    "gen = generate_nos()\n",
    "[next(gen) for _ in range(10)]\n"
   ]
  },
  {
   "cell_type": "markdown",
   "metadata": {},
   "source": [
    "#### C-1.19\n",
    "\n",
    "Demonstrate how to use Python's list comprehension syntax to produce the list [‘a’, ‘b’ ‘c’ . . ., ‘z’], but without having to type all 26 such characters literally."
   ]
  },
  {
   "cell_type": "code",
   "execution_count": 19,
   "metadata": {},
   "outputs": [
    {
     "name": "stdout",
     "output_type": "stream",
     "text": [
      "['a', 'b', 'c', 'd', 'e', 'f', 'g', 'h', 'i', 'j', 'k', 'l', 'm', 'n', 'o', 'p', 'q', 'r', 's', 't', 'u', 'v', 'w', 'x', 'y', 'z']\n"
     ]
    }
   ],
   "source": [
    "print([chr(97+i) for i in range(26)])"
   ]
  },
  {
   "cell_type": "markdown",
   "metadata": {},
   "source": [
    "#### C-1.20\n",
    "\n",
    "Python's random module includes a function shuffle(data) that accepts a list of elements and randomly reorders the elements so that each possible order occurs with equal probability. The random module includes a more basic function randint(a, b) that returns auniformly random integer from a to b (including both endpoints). Using only the randint function, implement your own version of the shuffle function."
   ]
  },
  {
   "cell_type": "code",
   "execution_count": 20,
   "metadata": {},
   "outputs": [
    {
     "name": "stdout",
     "output_type": "stream",
     "text": [
      "[4, 3, 2, 1]\n",
      "[0, 0, 0, 0]\n",
      "[1, 2, -1]\n"
     ]
    }
   ],
   "source": [
    "import random\n",
    "\n",
    "def rand_shuffle(data):\n",
    "    shuffle_list = []\n",
    "    while len(data):\n",
    "        random_ind = random.randint(0,len(data)-1)\n",
    "        shuffle_list.append(data.pop(random_ind)) # removes element from existing list and appends to the shuffled list\n",
    "    return shuffle_list\n",
    "\n",
    "print(rand_shuffle([1,2,3,4]))\n",
    "print(rand_shuffle([0,0,0,0]))\n",
    "print(rand_shuffle([1,2,-1]))\n"
   ]
  },
  {
   "cell_type": "markdown",
   "metadata": {},
   "source": [
    "#### C-1.21\n",
    "\n",
    "Write a Python program that repeatedly reads lines from standard input until an EOFError is raised, and then outputs those lines in reverse order (a user can indicate end of input by typing ctrl-D)."
   ]
  },
  {
   "cell_type": "code",
   "execution_count": 21,
   "metadata": {},
   "outputs": [
    {
     "name": "stdout",
     "output_type": "stream",
     "text": [
      "['This is the last line', 'This is line 3', 'This is line 2', 'This is line 1']\n"
     ]
    }
   ],
   "source": [
    "import sys\n",
    "\n",
    "def read_file(path):\n",
    "    file = open(path,'r')\n",
    "    lines=[]\n",
    "    for line in file.readlines():\n",
    "        lines.append(line.strip('\\n'))\n",
    "    return(lines[::-1])\n",
    "print(read_file('sample.txt'))"
   ]
  },
  {
   "cell_type": "markdown",
   "metadata": {},
   "source": [
    "#### C-1.22\n",
    "\n",
    "Write a short Python program that takes two arrays a and b of length n storing int values, and returns the dot product of a and b. That is, it returns an array c of length n such that c[i] = a[i] · b[i], for i = 0,. . ., n – 1."
   ]
  },
  {
   "cell_type": "code",
   "execution_count": 22,
   "metadata": {},
   "outputs": [
    {
     "name": "stdout",
     "output_type": "stream",
     "text": [
      "[5, 12, 21, 32]\n",
      "[-5, -12, 21, 32]\n",
      "Arrays are of unequal length\n",
      "None\n"
     ]
    }
   ],
   "source": [
    "def array_mul(a,b):\n",
    "    c=[]\n",
    "    if len(a)==len(b):\n",
    "        for i in range(len(a)):\n",
    "            c.append(a[i]*b[i])\n",
    "        return c\n",
    "    else:\n",
    "        print('Arrays are of unequal length')\n",
    "        return None\n",
    "\n",
    "print(array_mul([1,2,3,4], [5,6,7,8]))\n",
    "print(array_mul([1,2,3,4], [-5,-6,7,8]))\n",
    "print(array_mul([1,2,3,4], [5,6,7,]))\n"
   ]
  },
  {
   "cell_type": "markdown",
   "metadata": {},
   "source": [
    "#### C-1.23\n",
    "\n",
    "Give an example of a Python code fragment that attempts to write an element to a list based on an index that may be out of bounds. If that index is out of bounds, the program should catch the exception that results, and print the following error message:\n",
    "“Don't try buffer overflow attacks in Python!”"
   ]
  },
  {
   "cell_type": "code",
   "execution_count": 23,
   "metadata": {},
   "outputs": [
    {
     "name": "stdout",
     "output_type": "stream",
     "text": [
      "[1, 2, 3, 4, 5, 10]\n",
      "Don't try buffer overflow attacks in Python!\n",
      "None\n"
     ]
    }
   ],
   "source": [
    "def index_out_of_bounds(arr, ind, val):\n",
    "    try:\n",
    "        arr[ind] = val\n",
    "        return arr\n",
    "    except IndexError as err:\n",
    "        print(\"Don't try buffer overflow attacks in Python!\")\n",
    "\n",
    "print(index_out_of_bounds([1,2,3,4,5,6], 5, 10))\n",
    "print(index_out_of_bounds([1,2,3,4], 5, 10))\n",
    "\n",
    "    "
   ]
  },
  {
   "cell_type": "markdown",
   "metadata": {},
   "source": [
    "#### C-1.24\n",
    "\n",
    "Write a short Python function that counts the number of vowels in a given character string."
   ]
  },
  {
   "cell_type": "code",
   "execution_count": 24,
   "metadata": {},
   "outputs": [
    {
     "name": "stdout",
     "output_type": "stream",
     "text": [
      "1\n",
      "5\n",
      "5\n",
      "0\n"
     ]
    }
   ],
   "source": [
    "def count_vowel(text):\n",
    "    vowel_list = ['a','e','i','o','u']\n",
    "    count = 0\n",
    "    for char in text.lower():\n",
    "        if char in vowel_list:\n",
    "            count +=1\n",
    "    return count\n",
    "\n",
    "print(count_vowel('Python'))\n",
    "print(count_vowel('Python is amazing'))\n",
    "print(count_vowel('PythOn is Amazing'))\n",
    "print(count_vowel(''))"
   ]
  },
  {
   "cell_type": "markdown",
   "metadata": {},
   "source": [
    "#### C-1.25\n",
    "\n",
    "Write a short Python function that takes a string s, representing a sentence, and returns a copy of the string with all punctuation removed. For example, if given the string “Let's try, Mike.”, this function would return “Lets try Mike”."
   ]
  },
  {
   "cell_type": "code",
   "execution_count": 25,
   "metadata": {},
   "outputs": [
    {
     "name": "stdout",
     "output_type": "stream",
     "text": [
      "Lets try Mike\n",
      "Lets try Mike\n",
      "Lets try Mike\n",
      "Lets try Mike9\n"
     ]
    }
   ],
   "source": [
    "import re\n",
    "\n",
    "def remove_punc(text):\n",
    "    result = re.sub(r'[^\\w\\s]','',text)\n",
    "    return result\n",
    "\n",
    "print(remove_punc(\"Let's try, Mike.\"))\n",
    "print(remove_punc(\"Let's try, @Mike.\"))\n",
    "print(remove_punc(\"Let's try, $Mike.\"))\n",
    "print(remove_punc(\"Let's try, @Mike9.\"))\n",
    "\n",
    "                    "
   ]
  },
  {
   "cell_type": "markdown",
   "metadata": {},
   "source": [
    "#### C-1.26\n",
    "\n",
    "Write a short program that takes as input three integers, a, b, and c, from the console and determines if they can be used in a correct arithmetic formula (in the given order), like “a + b = c,” “a = b − c,” or “a * b = c.”"
   ]
  },
  {
   "cell_type": "code",
   "execution_count": 26,
   "metadata": {},
   "outputs": [
    {
     "name": "stdout",
     "output_type": "stream",
     "text": [
      "Addition\n",
      "No arithmetic operations are possible\n",
      "Multiplication\n",
      "Subtraction\n",
      "Division\n",
      "Zero division not possible\n"
     ]
    }
   ],
   "source": [
    "def check_arithmetic(a,b,c):\n",
    "    try:\n",
    "        if a+b==c:\n",
    "            return \"Addition\"\n",
    "        elif a-b==c:\n",
    "            return \"Subtraction\"\n",
    "        elif a*b==c:\n",
    "            return \"Multiplication\"\n",
    "        elif a/b==c:\n",
    "            return \"Division\"\n",
    "        else:\n",
    "            return \"No arithmetic operations are possible\"\n",
    "    except ZeroDivisionError as err:\n",
    "        return \"Zero division not possible\"\n",
    "    \n",
    "print(check_arithmetic(2,1,3))\n",
    "print(check_arithmetic(2,1,4))\n",
    "print(check_arithmetic(2,3,6))\n",
    "print(check_arithmetic(4,1,3))\n",
    "print(check_arithmetic(6,2,3))\n",
    "print(check_arithmetic(2,0,3))"
   ]
  },
  {
   "cell_type": "markdown",
   "metadata": {},
   "source": [
    "#### C-1.27\n",
    "\n",
    "In Section 1.8, we provided three different implementations of a generator that computes factors of a given integer. The third of those implementations, from page 41, was the most efficient, but we noted that it did not yield the factors in increasing order. Modify the generator so that it reports factors in increasing order, while maintaining its general performance advantages."
   ]
  },
  {
   "cell_type": "code",
   "execution_count": 27,
   "metadata": {},
   "outputs": [
    {
     "name": "stdout",
     "output_type": "stream",
     "text": [
      "1\n",
      "2\n",
      "4\n",
      "8\n",
      "16\n",
      "32\n",
      "64\n",
      "End of generator\n"
     ]
    }
   ],
   "source": [
    "def factors(n):  \n",
    "    k = 1\n",
    "    while k * k < n:\n",
    "        if n % k == 0:\n",
    "            yield k\n",
    "            yield n // k\n",
    "        k += 1\n",
    "    if k * k == n: \n",
    "        yield k\n",
    "        \n",
    "def factors_new(n):\n",
    "    k = 1\n",
    "    large_factors = []\n",
    "    while k * k < n:\n",
    "        if n % k ==0:\n",
    "            yield k\n",
    "            large_factors.append(n//k)\n",
    "        k += 1\n",
    "    if k * k == n:\n",
    "        yield k\n",
    "    for num in large_factors[::-1]:\n",
    "        yield num\n",
    "\n",
    "def test_factors(num):\n",
    "    gen = factors_new(num)\n",
    "    try:\n",
    "        for _ in range(100):\n",
    "            print(next(gen))\n",
    "    except StopIteration as err:\n",
    "        print(\"End of generator\")\n",
    "\n",
    "\n",
    "test_factors(64)\n",
    "\n"
   ]
  },
  {
   "attachments": {
    "ch001-eq001.jpg": {
     "image/jpeg": "[encoded data removed]"
    }
   },
   "cell_type": "markdown",
   "metadata": {},
   "source": [
    "#### C-1.28\n",
    "\n",
    "The p-norm of a vector v = (v1, v2, . . ., vn) in n-dimensional space is defined as\n",
    "images ![ch001-eq001.jpg](attachment:ch001-eq001.jpg)\n",
    "\n",
    "For the special case of p = 2, this results in the traditional Euclidean norm, which represents the length of the vector. For example, the Euclidean norm of a two-dimensional vector with coordinates (4, 3) has a Euclidean norm of images. Give an implementation of a function named norm such that norm(v, p) returns the p-norm value of v and norm(v) returns the Euclidean norm of v. You may assume that v is a list of numbers."
   ]
  },
  {
   "cell_type": "code",
   "execution_count": 28,
   "metadata": {},
   "outputs": [
    {
     "name": "stdout",
     "output_type": "stream",
     "text": [
      "5.0\n",
      "9.185452750071137\n",
      "5.0\n",
      "4.284572294953817\n",
      "8.06093002175469\n"
     ]
    }
   ],
   "source": [
    "import math\n",
    "def norm(v,p=2):\n",
    "    list_mul = list(map(lambda x: math.pow(x,p),v)) # Vector raised to the power p\n",
    "    return math.pow(sum(list_mul),1/p) \n",
    "  \n",
    "print(norm([4,3]))\n",
    "print(norm([4,3,5,6,7],3))\n",
    "print(norm([4,3],2))\n",
    "print(norm([4,3],4))\n",
    "print(norm([4,3,8],5))"
   ]
  },
  {
   "cell_type": "code",
   "execution_count": null,
   "metadata": {},
   "outputs": [],
   "source": []
  }
 ],
 "metadata": {
  "kernelspec": {
   "display_name": "Python 3",
   "language": "python",
   "name": "python3"
  },
  "language_info": {
   "codemirror_mode": {
    "name": "ipython",
    "version": 3
   },
   "file_extension": ".py",
   "mimetype": "text/x-python",
   "name": "python",
   "nbconvert_exporter": "python",
   "pygments_lexer": "ipython3",
   "version": "3.7.3"
  }
 },
 "nbformat": 4,
 "nbformat_minor": 2
}
