{
 "cells": [
  {
   "cell_type": "markdown",
   "metadata": {},
   "source": [
    "# Reinforcement"
   ]
  },
  {
   "cell_type": "markdown",
   "metadata": {},
   "source": [
    "#### R-1.1 \n",
    "\n",
    "Write a short Python function, is_multiple(n, m), that takes two integer values and returns True if n is a multiple of m, that is, n = mi for some integer i, and False otherwise."
   ]
  },
  {
   "cell_type": "code",
   "execution_count": 1,
   "metadata": {},
   "outputs": [
    {
     "name": "stdout",
     "output_type": "stream",
     "text": [
      "False\n",
      "True\n",
      "False\n",
      "True\n",
      "True\n",
      "True\n"
     ]
    }
   ],
   "source": [
    "def is_multiple(n,m):\n",
    "    return False if not m else (n%m==0) # Handling zero division error\n",
    "\n",
    "print(is_multiple(10,3))\n",
    "print(is_multiple(10,5))\n",
    "print(is_multiple(10,0))\n",
    "print(is_multiple(20,-1))\n",
    "print(is_multiple(-20,-1))\n",
    "print(is_multiple(-10,-1))"
   ]
  },
  {
   "cell_type": "markdown",
   "metadata": {},
   "source": [
    "#### R-1.2\n",
    "\n",
    "Write a short Python function, is_even(k), that takes an integer value and returns True if k is even, and False otherwise. However, your function cannot use the multiplication, modulo, or division operators."
   ]
  },
  {
   "cell_type": "code",
   "execution_count": 2,
   "metadata": {},
   "outputs": [
    {
     "name": "stdout",
     "output_type": "stream",
     "text": [
      "True\n",
      "False\n",
      "True\n",
      "False\n"
     ]
    }
   ],
   "source": [
    "def is_even(k):\n",
    "    assert type(k) == int, \"Not an Integer\"\n",
    "    return (k&1 == 0) #Bitwise operation\n",
    "\n",
    "print(is_even(2))\n",
    "print(is_even(3))   \n",
    "print(is_even(0))  \n",
    "print(is_even(-1)) "
   ]
  },
  {
   "cell_type": "markdown",
   "metadata": {},
   "source": [
    "#### R-1.3\n",
    "\n",
    "Write a short Python function, minmax(data), that takes a sequence of one or more numbers, and returns the smallest and largest numbers, in the form of a tuple of length two. Do not use the built-in functions min or max in implementing your solution."
   ]
  },
  {
   "cell_type": "code",
   "execution_count": 3,
   "metadata": {},
   "outputs": [
    {
     "name": "stdout",
     "output_type": "stream",
     "text": [
      "(1, 9)\n",
      "(1, 2)\n",
      "(3, 3)\n",
      "Data source should not be empty\n",
      "None\n"
     ]
    }
   ],
   "source": [
    "def minmax(data):\n",
    "    if len(data):\n",
    "        min = max = data[0]\n",
    "        for num in data:\n",
    "            if num < min: min = num\n",
    "            elif num > max: max = num\n",
    "        return (min,max)\n",
    "    else:\n",
    "        print('Data source should not be empty')\n",
    "        return None\n",
    "\n",
    "print(minmax([1,5,2,8,9]))\n",
    "print(minmax([1,2]))\n",
    "print(minmax([3]))\n",
    "print(minmax([]))\n",
    "        "
   ]
  },
  {
   "cell_type": "markdown",
   "metadata": {},
   "source": [
    "#### R-1.4\n",
    "\n",
    "Write a short Python function that takes a positive integer n and returns the sum of the squares of all the positive integers smaller than n."
   ]
  },
  {
   "cell_type": "code",
   "execution_count": 4,
   "metadata": {},
   "outputs": [
    {
     "name": "stdout",
     "output_type": "stream",
     "text": [
      "285\n",
      "5\n",
      "328350\n",
      "0\n",
      "0\n"
     ]
    }
   ],
   "source": [
    "def sum_of_squares(num):\n",
    "    sum = 0\n",
    "    for i in range (1,num):\n",
    "        sum += i*i\n",
    "    return sum\n",
    "    \n",
    "\n",
    "print(sum_of_squares(10))\n",
    "print(sum_of_squares(3))\n",
    "print(sum_of_squares(100))\n",
    "print(sum_of_squares(1))\n",
    "print(sum_of_squares(-100))\n"
   ]
  },
  {
   "cell_type": "markdown",
   "metadata": {},
   "source": [
    "#### R-1.5\n",
    "\n",
    "Give a single command that computes the sum from Exercise R-1.4, relying on Python's comprehension syntax and the built-in sum function."
   ]
  },
  {
   "cell_type": "code",
   "execution_count": 5,
   "metadata": {},
   "outputs": [
    {
     "name": "stdout",
     "output_type": "stream",
     "text": [
      "285\n",
      "5\n",
      "328350\n",
      "0\n",
      "0\n"
     ]
    }
   ],
   "source": [
    "def sum_of_squares(num):\n",
    "    return sum([i*i for i in range(1,num)])\n",
    "\n",
    "print(sum_of_squares(10))\n",
    "print(sum_of_squares(3))\n",
    "print(sum_of_squares(100))\n",
    "print(sum_of_squares(1))\n",
    "print(sum_of_squares(-100))"
   ]
  },
  {
   "cell_type": "markdown",
   "metadata": {},
   "source": [
    "#### R-1.6\n",
    "\n",
    "Write a short Python function that takes a positive integer n and returns the sum of the squares of all the odd positive integers smaller than n."
   ]
  },
  {
   "cell_type": "code",
   "execution_count": 6,
   "metadata": {},
   "outputs": [
    {
     "name": "stdout",
     "output_type": "stream",
     "text": [
      "165\n",
      "1\n",
      "166650\n",
      "0\n",
      "0\n"
     ]
    }
   ],
   "source": [
    "def sum_of_odd_squares(num):\n",
    "    sum = 0\n",
    "    for i in range (1,num):\n",
    "        if i%2:\n",
    "            sum += i*i\n",
    "    return sum\n",
    "\n",
    "print(sum_of_odd_squares(10))\n",
    "print(sum_of_odd_squares(3))\n",
    "print(sum_of_odd_squares(100))\n",
    "print(sum_of_odd_squares(1))\n",
    "print(sum_of_odd_squares(-100))"
   ]
  },
  {
   "cell_type": "markdown",
   "metadata": {},
   "source": [
    "#### R1.7\n",
    "\n",
    "Give a single command that computes the sum from Exercise R-1.6, relying on Python's comprehension syntax and the built-in sum function."
   ]
  },
  {
   "cell_type": "code",
   "execution_count": 7,
   "metadata": {},
   "outputs": [
    {
     "name": "stdout",
     "output_type": "stream",
     "text": [
      "165\n",
      "1\n",
      "166650\n",
      "0\n",
      "0\n"
     ]
    }
   ],
   "source": [
    "def sum_of_odd_squares(num):\n",
    "    return sum([i*i for i in range(1,num) if i%2])\n",
    "\n",
    "print(sum_of_odd_squares(10))\n",
    "print(sum_of_odd_squares(3))\n",
    "print(sum_of_odd_squares(100))\n",
    "print(sum_of_odd_squares(1))\n",
    "print(sum_of_odd_squares(-100))"
   ]
  },
  {
   "cell_type": "markdown",
   "metadata": {},
   "source": [
    "#### R-1.8\n",
    "\n",
    "Python allows negative integers to be used as indices into a sequence, such as a string. If string s has length n, and expression s[k] is used for index −n ≤ k < 0, what is the equivalent index j ≥ 0 such that s[j] references the same element?"
   ]
  },
  {
   "cell_type": "code",
   "execution_count": 8,
   "metadata": {},
   "outputs": [
    {
     "name": "stdout",
     "output_type": "stream",
     "text": [
      "14\n",
      "e\n",
      "e\n"
     ]
    }
   ],
   "source": [
    "#Example\n",
    "s = 'datastructures' # Original string\n",
    "k = -2 # Let's say\n",
    "n = len(s) \n",
    "j = n+k\n",
    "print(n)\n",
    "print(s[k])\n",
    "print(s[j])\n",
    "\n",
    "# Hence answer is n+k"
   ]
  },
  {
   "cell_type": "markdown",
   "metadata": {},
   "source": [
    "#### R-1.9\n",
    "\n",
    "What parameters should be sent to the range constructor, to produce a range with values 50, 60, 70, 80?"
   ]
  },
  {
   "cell_type": "code",
   "execution_count": 9,
   "metadata": {},
   "outputs": [
    {
     "data": {
      "text/plain": [
       "[50, 60, 70, 80]"
      ]
     },
     "execution_count": 9,
     "metadata": {},
     "output_type": "execute_result"
    }
   ],
   "source": [
    "def range_construct():\n",
    "    return list(range(50,90,10))\n",
    "range_construct()"
   ]
  },
  {
   "cell_type": "markdown",
   "metadata": {},
   "source": [
    "#### R-1.10\n",
    "\n",
    "What parameters should be sent to the range constructor, to produce a range with values 8, 6, 4, 2, 0, −2, −4, −6, −8?"
   ]
  },
  {
   "cell_type": "code",
   "execution_count": 10,
   "metadata": {},
   "outputs": [
    {
     "data": {
      "text/plain": [
       "[8, 6, 4, 2, 0, -2, -4, -6, -8]"
      ]
     },
     "execution_count": 10,
     "metadata": {},
     "output_type": "execute_result"
    }
   ],
   "source": [
    "def range_construct():\n",
    "    return list(range(8,-10,-2))\n",
    "range_construct()"
   ]
  },
  {
   "cell_type": "code",
   "execution_count": null,
   "metadata": {},
   "outputs": [],
   "source": []
  }
 ],
 "metadata": {
  "kernelspec": {
   "display_name": "Python 3",
   "language": "python",
   "name": "python3"
  },
  "language_info": {
   "codemirror_mode": {
    "name": "ipython",
    "version": 3
   },
   "file_extension": ".py",
   "mimetype": "text/x-python",
   "name": "python",
   "nbconvert_exporter": "python",
   "pygments_lexer": "ipython3",
   "version": "3.7.3"
  }
 },
 "nbformat": 4,
 "nbformat_minor": 2
}
